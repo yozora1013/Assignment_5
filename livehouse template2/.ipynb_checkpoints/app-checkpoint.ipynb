{
 "cells": [
  {
   "cell_type": "code",
   "execution_count": null,
   "metadata": {},
   "outputs": [
    {
     "name": "stdout",
     "output_type": "stream",
     "text": [
      " * Serving Flask app \"__main__\" (lazy loading)\n",
      " * Environment: production\n",
      "\u001b[31m   WARNING: This is a development server. Do not use it in a production deployment.\u001b[0m\n",
      "\u001b[2m   Use a production WSGI server instead.\u001b[0m\n",
      " * Debug mode: off\n"
     ]
    },
    {
     "name": "stderr",
     "output_type": "stream",
     "text": [
      " * Running on http://localhost:9009/ (Press CTRL+C to quit)\n",
      "127.0.0.1 - - [15/Oct/2021 14:55:18] \"\u001b[37mGET / HTTP/1.1\u001b[0m\" 200 -\n",
      "127.0.0.1 - - [15/Oct/2021 14:55:19] \"\u001b[33mGET /static/static/js/scripts.js HTTP/1.1\u001b[0m\" 404 -\n",
      "127.0.0.1 - - [15/Oct/2021 14:55:19] \"\u001b[33mGET /static/static/js/scripts.js HTTP/1.1\u001b[0m\" 404 -\n",
      "127.0.0.1 - - [15/Oct/2021 14:55:21] \"\u001b[37mGET /bands HTTP/1.1\u001b[0m\" 200 -\n",
      "127.0.0.1 - - [15/Oct/2021 14:55:21] \"\u001b[33mGET /static/static/js/scripts.js HTTP/1.1\u001b[0m\" 404 -\n",
      "127.0.0.1 - - [15/Oct/2021 14:55:23] \"\u001b[37mGET /timetable HTTP/1.1\u001b[0m\" 200 -\n",
      "127.0.0.1 - - [15/Oct/2021 14:55:23] \"\u001b[33mGET /static/static/js/scripts.js HTTP/1.1\u001b[0m\" 404 -\n",
      "127.0.0.1 - - [15/Oct/2021 14:55:23] \"\u001b[33mGET /static/static/js/scripts.js HTTP/1.1\u001b[0m\" 404 -\n",
      "127.0.0.1 - - [15/Oct/2021 14:55:24] \"\u001b[37mGET /livehouse HTTP/1.1\u001b[0m\" 200 -\n",
      "127.0.0.1 - - [15/Oct/2021 14:55:24] \"\u001b[33mGET /static/static/js/scripts.js HTTP/1.1\u001b[0m\" 404 -\n",
      "127.0.0.1 - - [15/Oct/2021 14:55:24] \"\u001b[37mGET /static/assets/img/portfolio/by.jpeg HTTP/1.1\u001b[0m\" 200 -\n",
      "127.0.0.1 - - [15/Oct/2021 14:55:24] \"\u001b[37mGET /static/assets/img/portfolio/ok.jpeg HTTP/1.1\u001b[0m\" 200 -\n",
      "127.0.0.1 - - [15/Oct/2021 14:55:24] \"\u001b[37mGET /static/assets/img/portfolio/it.jpeg HTTP/1.1\u001b[0m\" 200 -\n",
      "127.0.0.1 - - [15/Oct/2021 14:55:32] \"\u001b[37mGET / HTTP/1.1\u001b[0m\" 200 -\n",
      "127.0.0.1 - - [15/Oct/2021 14:55:32] \"\u001b[33mGET /static/static/js/scripts.js HTTP/1.1\u001b[0m\" 404 -\n",
      "127.0.0.1 - - [15/Oct/2021 14:55:32] \"\u001b[33mGET /static/static/js/scripts.js HTTP/1.1\u001b[0m\" 404 -\n",
      "127.0.0.1 - - [15/Oct/2021 14:55:37] \"\u001b[37mGET / HTTP/1.1\u001b[0m\" 200 -\n",
      "127.0.0.1 - - [15/Oct/2021 14:55:37] \"\u001b[33mGET /static/static/js/scripts.js HTTP/1.1\u001b[0m\" 404 -\n",
      "127.0.0.1 - - [15/Oct/2021 14:55:37] \"\u001b[33mGET /static/static/js/scripts.js HTTP/1.1\u001b[0m\" 404 -\n",
      "127.0.0.1 - - [15/Oct/2021 14:55:41] \"\u001b[37mGET /livehouse HTTP/1.1\u001b[0m\" 200 -\n",
      "127.0.0.1 - - [15/Oct/2021 14:55:41] \"\u001b[33mGET /static/static/js/scripts.js HTTP/1.1\u001b[0m\" 404 -\n",
      "127.0.0.1 - - [15/Oct/2021 14:55:48] \"\u001b[37mGET /bands HTTP/1.1\u001b[0m\" 200 -\n",
      "127.0.0.1 - - [15/Oct/2021 14:55:48] \"\u001b[33mGET /static/static/js/scripts.js HTTP/1.1\u001b[0m\" 404 -\n",
      "127.0.0.1 - - [15/Oct/2021 14:55:49] \"\u001b[37mGET /about HTTP/1.1\u001b[0m\" 200 -\n",
      "127.0.0.1 - - [15/Oct/2021 14:55:49] \"\u001b[33mGET /static/static/js/scripts.js HTTP/1.1\u001b[0m\" 404 -\n",
      "127.0.0.1 - - [15/Oct/2021 14:55:51] \"\u001b[37mGET /contact HTTP/1.1\u001b[0m\" 200 -\n",
      "127.0.0.1 - - [15/Oct/2021 14:55:51] \"\u001b[33mGET /static/static/js/scripts.js HTTP/1.1\u001b[0m\" 404 -\n",
      "127.0.0.1 - - [15/Oct/2021 14:55:51] \"\u001b[33mGET /static/static/js/scripts.js HTTP/1.1\u001b[0m\" 404 -\n",
      "127.0.0.1 - - [15/Oct/2021 14:55:53] \"\u001b[37mGET /about HTTP/1.1\u001b[0m\" 200 -\n",
      "127.0.0.1 - - [15/Oct/2021 14:55:53] \"\u001b[33mGET /static/static/js/scripts.js HTTP/1.1\u001b[0m\" 404 -\n",
      "127.0.0.1 - - [15/Oct/2021 14:55:53] \"\u001b[33mGET /static/static/js/scripts.js HTTP/1.1\u001b[0m\" 404 -\n",
      "127.0.0.1 - - [15/Oct/2021 14:56:03] \"\u001b[37mGET / HTTP/1.1\u001b[0m\" 200 -\n",
      "127.0.0.1 - - [15/Oct/2021 14:56:03] \"\u001b[33mGET /static/static/js/scripts.js HTTP/1.1\u001b[0m\" 404 -\n",
      "127.0.0.1 - - [15/Oct/2021 14:56:03] \"\u001b[33mGET /static/static/js/scripts.js HTTP/1.1\u001b[0m\" 404 -\n"
     ]
    }
   ],
   "source": [
    "\n",
    "from flask import Flask, render_template, redirect, url_for\n",
    "import pandas as pd\n",
    "\n",
    "app = Flask(__name__)\n",
    "\n",
    "@app.route(\"/\")\n",
    "def index():\n",
    "    return render_template('index.html')\n",
    "\n",
    "\n",
    "@app.route(\"/livehouse\")\n",
    "def livehouse():\n",
    "    return render_template('livehouse.html')\n",
    "\n",
    "@app.route(\"/bands\")\n",
    "def bands():\n",
    "    return render_template('bands.html')\n",
    "\n",
    "@app.route(\"/contact\")\n",
    "def contact():\n",
    "    return render_template('contact.html')\n",
    "\n",
    "@app.route(\"/timetable\")\n",
    "def timetable():\n",
    "   \n",
    "    return render_template('timetable.html')\n",
    "\n",
    "@app.route(\"/about\")\n",
    "def about():\n",
    "   \n",
    "    return render_template('about.html')   \n",
    "\n",
    "@app.errorhandler(404)\n",
    "def page_not_found(e):\n",
    "    return render_template('404.html'), 404\n",
    "\n",
    "\n",
    "if __name__ == '__main__':\n",
    "    app.run('localhost', 9009)"
   ]
  },
  {
   "cell_type": "code",
   "execution_count": null,
   "metadata": {},
   "outputs": [],
   "source": []
  },
  {
   "cell_type": "code",
   "execution_count": null,
   "metadata": {},
   "outputs": [],
   "source": []
  }
 ],
 "metadata": {
  "celltoolbar": "编辑元数据",
  "kernelspec": {
   "display_name": "Python 3",
   "language": "python",
   "name": "python3"
  },
  "language_info": {
   "codemirror_mode": {
    "name": "ipython",
    "version": 3
   },
   "file_extension": ".py",
   "mimetype": "text/x-python",
   "name": "python",
   "nbconvert_exporter": "python",
   "pygments_lexer": "ipython3",
   "version": "3.8.8"
  }
 },
 "nbformat": 4,
 "nbformat_minor": 2
}
